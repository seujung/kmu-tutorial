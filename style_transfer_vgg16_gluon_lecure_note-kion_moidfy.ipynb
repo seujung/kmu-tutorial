{
 "cells": [
  {
   "cell_type": "code",
   "execution_count": 2,
   "metadata": {},
   "outputs": [],
   "source": [
    "import time\n",
    "import random\n",
    "import os\n",
    "import mxnet as mx\n",
    "import numpy as np\n",
    "from mxnet import gluon, autograd ,nd\n",
    "#np.set_printoptions(precision=2)\n",
    "from PIL import Image\n",
    "\n",
    "from mxnet.gluon import nn, Block, HybridBlock, Parameter, ParameterDict\n",
    "import mxnet.ndarray as F\n",
    "\n",
    "from tqdm import tqdm\n",
    "import utils"
   ]
  },
  {
   "cell_type": "markdown",
   "metadata": {},
   "source": [
    "### gpu 사용 여부를 지정"
   ]
  },
  {
   "cell_type": "code",
   "execution_count": 3,
   "metadata": {},
   "outputs": [],
   "source": [
    "ctx = mx.gpu()"
   ]
  },
  {
   "cell_type": "code",
   "execution_count": 4,
   "metadata": {},
   "outputs": [
    {
     "data": {
      "text/plain": [
       "'/home/seunghwan_2/kmu-tutorial'"
      ]
     },
     "execution_count": 4,
     "metadata": {},
     "output_type": "execute_result"
    }
   ],
   "source": [
    "os.getcwd()"
   ]
  },
  {
   "cell_type": "markdown",
   "metadata": {},
   "source": [
    "### Hyper parameter 정의\n",
    " - 이미지 파일 위치 정보 지정 \n",
    " - content/style image size 지정\n",
    " - content/style weight 설정\n",
    "    - 둘 중 높은 쪽에 더 가중치를 두어서 학습이 이루어짐\n",
    "- num_iteration : 총 iteration 횟수"
   ]
  },
  {
   "cell_type": "code",
   "execution_count": 5,
   "metadata": {},
   "outputs": [],
   "source": [
    "content_image_path = os.getcwd()+'/images/eva.jpg'\n",
    "style_image_path = os.getcwd() + '/images/picasso.jpg'\n",
    "output_image_path = os.getcwd() + '/output2.jpg'\n",
    "content_size = 100\n",
    "style_size = 100\n",
    "lr = 1e1\n",
    "content_weight = 10.0\n",
    "style_weight = 1000.0\n",
    "num_iteration = 500"
   ]
  },
  {
   "cell_type": "code",
   "execution_count": 6,
   "metadata": {},
   "outputs": [],
   "source": [
    "def load_rgbimage(filename, ctx, size=None, scale=None, keep_asp=False):\n",
    "    img = Image.open(filename).convert('RGB')\n",
    "    if size is not None:\n",
    "        if keep_asp:\n",
    "            size2 = int(size * 1.0 / img.size[0] * img.size[1])\n",
    "            img = img.resize((size, size2), Image.ANTIALIAS)\n",
    "        else:\n",
    "            img = img.resize((size, size), Image.ANTIALIAS)\n",
    "\n",
    "    elif scale is not None:\n",
    "        img = img.resize((int(img.size[0] / scale), int(img.size[1] / scale)), Image.ANTIALIAS)\n",
    "    img = np.array(img).transpose(2, 0, 1).astype(float)\n",
    "    img = F.expand_dims(mx.nd.array(img, ctx=ctx), 0)\n",
    "    return img"
   ]
  },
  {
   "cell_type": "code",
   "execution_count": 7,
   "metadata": {},
   "outputs": [],
   "source": [
    "##image data loading..\n",
    "content_image = load_rgbimage(content_image_path,ctx, size=content_size, keep_asp=True)\n",
    "style_image = load_rgbimage(style_image_path, ctx, size=style_size)"
   ]
  },
  {
   "cell_type": "code",
   "execution_count": 8,
   "metadata": {},
   "outputs": [
    {
     "data": {
      "text/plain": [
       "(1, 3, 141, 100)"
      ]
     },
     "execution_count": 8,
     "metadata": {},
     "output_type": "execute_result"
    }
   ],
   "source": [
    "content_image.shape"
   ]
  },
  {
   "cell_type": "code",
   "execution_count": 9,
   "metadata": {},
   "outputs": [
    {
     "data": {
      "text/plain": [
       "(1, 3, 100, 100)"
      ]
     },
     "execution_count": 9,
     "metadata": {},
     "output_type": "execute_result"
    }
   ],
   "source": [
    "style_image.shape"
   ]
  },
  {
   "cell_type": "markdown",
   "metadata": {},
   "source": [
    "### pre-trained 네트워크 loading\n",
    "- VGG16 네트워크를 loading \n",
    "- pretrained=True 는 학습된 네트워크의 weight 값을 가지고 오는 것임"
   ]
  },
  {
   "cell_type": "code",
   "execution_count": 10,
   "metadata": {},
   "outputs": [],
   "source": [
    "vgg_layers = mx.gluon.model_zoo.vision.vgg16(pretrained=True).features"
   ]
  },
  {
   "cell_type": "code",
   "execution_count": 11,
   "metadata": {},
   "outputs": [
    {
     "data": {
      "text/plain": [
       "HybridSequential(\n",
       "  (0): Conv2D(3 -> 64, kernel_size=(3, 3), stride=(1, 1), padding=(1, 1))\n",
       "  (1): Activation(relu)\n",
       "  (2): Conv2D(64 -> 64, kernel_size=(3, 3), stride=(1, 1), padding=(1, 1))\n",
       "  (3): Activation(relu)\n",
       "  (4): MaxPool2D(size=(2, 2), stride=(2, 2), padding=(0, 0), ceil_mode=False)\n",
       "  (5): Conv2D(64 -> 128, kernel_size=(3, 3), stride=(1, 1), padding=(1, 1))\n",
       "  (6): Activation(relu)\n",
       "  (7): Conv2D(128 -> 128, kernel_size=(3, 3), stride=(1, 1), padding=(1, 1))\n",
       "  (8): Activation(relu)\n",
       "  (9): MaxPool2D(size=(2, 2), stride=(2, 2), padding=(0, 0), ceil_mode=False)\n",
       "  (10): Conv2D(128 -> 256, kernel_size=(3, 3), stride=(1, 1), padding=(1, 1))\n",
       "  (11): Activation(relu)\n",
       "  (12): Conv2D(256 -> 256, kernel_size=(3, 3), stride=(1, 1), padding=(1, 1))\n",
       "  (13): Activation(relu)\n",
       "  (14): Conv2D(256 -> 256, kernel_size=(3, 3), stride=(1, 1), padding=(1, 1))\n",
       "  (15): Activation(relu)\n",
       "  (16): MaxPool2D(size=(2, 2), stride=(2, 2), padding=(0, 0), ceil_mode=False)\n",
       "  (17): Conv2D(256 -> 512, kernel_size=(3, 3), stride=(1, 1), padding=(1, 1))\n",
       "  (18): Activation(relu)\n",
       "  (19): Conv2D(512 -> 512, kernel_size=(3, 3), stride=(1, 1), padding=(1, 1))\n",
       "  (20): Activation(relu)\n",
       "  (21): Conv2D(512 -> 512, kernel_size=(3, 3), stride=(1, 1), padding=(1, 1))\n",
       "  (22): Activation(relu)\n",
       "  (23): MaxPool2D(size=(2, 2), stride=(2, 2), padding=(0, 0), ceil_mode=False)\n",
       "  (24): Conv2D(512 -> 512, kernel_size=(3, 3), stride=(1, 1), padding=(1, 1))\n",
       "  (25): Activation(relu)\n",
       "  (26): Conv2D(512 -> 512, kernel_size=(3, 3), stride=(1, 1), padding=(1, 1))\n",
       "  (27): Activation(relu)\n",
       "  (28): Conv2D(512 -> 512, kernel_size=(3, 3), stride=(1, 1), padding=(1, 1))\n",
       "  (29): Activation(relu)\n",
       "  (30): MaxPool2D(size=(2, 2), stride=(2, 2), padding=(0, 0), ceil_mode=False)\n",
       "  (31): Dense(25088 -> 4096, Activation(relu))\n",
       "  (32): Dropout(p = 0.5)\n",
       "  (33): Dense(4096 -> 4096, Activation(relu))\n",
       "  (34): Dropout(p = 0.5)\n",
       ")"
      ]
     },
     "execution_count": 11,
     "metadata": {},
     "output_type": "execute_result"
    }
   ],
   "source": [
    "vgg_layers"
   ]
  },
  {
   "cell_type": "markdown",
   "metadata": {},
   "source": [
    "### style 학습을 위한 network를 정의\n",
    "- 우리가 필요한 부분은 3, 8, 15, 22, 29 번째 layer이기 때문에 해당 부분만 추출하여 network를 생성함"
   ]
  },
  {
   "cell_type": "code",
   "execution_count": 12,
   "metadata": {},
   "outputs": [],
   "source": [
    "class LossNetwork(gluon.Block):\n",
    "    def __init__(self,**kwargs):\n",
    "        super(LossNetwork,self).__init__(**kwargs)\n",
    "        with self.name_scope():\n",
    "            self.vgg_layers = mx.gluon.model_zoo.vision.vgg16(pretrained=True).features\n",
    "            self.layer_name_mapping = {\n",
    "            '3': \"relu1_2\",\n",
    "            '8': \"relu2_2\",\n",
    "            '15': \"relu3_3\",\n",
    "            '22': \"relu4_3\",\n",
    "            '29': \"relu5_3\",  \n",
    "        }\n",
    "    \n",
    "    def forward(self,x):\n",
    "        output ={}\n",
    "        output = []\n",
    "        for i in range(31):\n",
    "            #print(i)\n",
    "            x = self.vgg_layers[i](x)\n",
    "            if str(i) in self.layer_name_mapping:\n",
    "                output.append(x)\n",
    "        return output"
   ]
  },
  {
   "cell_type": "markdown",
   "metadata": {},
   "source": [
    "### gram matrix 정의\n",
    "- loss를 정의하기 위해 도입한 matrix 형태\n",
    "- 원래의 이미지를 channel 관점에서 dot product를 수행함 -> 최종 형태는 ch X ch\n",
    "- channel관의 관계를 표현한 matrix 형태로 이해할 수 있음"
   ]
  },
  {
   "cell_type": "code",
   "execution_count": 13,
   "metadata": {},
   "outputs": [],
   "source": [
    "def gram_matrix(y):\n",
    "    (b, ch, h, w) = y.shape\n",
    "    features = y.reshape((b, ch, w * h))\n",
    "    #features_t = F.SwapAxis(features,1, 2)\n",
    "    gram = F.batch_dot(features, features, transpose_b=True) / (ch * h * w)\n",
    "    return gram"
   ]
  },
  {
   "cell_type": "code",
   "execution_count": 14,
   "metadata": {},
   "outputs": [],
   "source": [
    "a =nd.arange(2*3*4*5).reshape((2,3,4,5))"
   ]
  },
  {
   "cell_type": "code",
   "execution_count": 15,
   "metadata": {},
   "outputs": [],
   "source": [
    "b = gram_matrix(a)"
   ]
  },
  {
   "cell_type": "code",
   "execution_count": 16,
   "metadata": {},
   "outputs": [
    {
     "data": {
      "text/plain": [
       "(2, 3, 3)"
      ]
     },
     "execution_count": 16,
     "metadata": {},
     "output_type": "execute_result"
    }
   ],
   "source": [
    "b.shape"
   ]
  },
  {
   "cell_type": "code",
   "execution_count": 17,
   "metadata": {},
   "outputs": [],
   "source": [
    "# load the pre-trained vgg-16 and extract features\n",
    "vgg = LossNetwork()"
   ]
  },
  {
   "cell_type": "code",
   "execution_count": 18,
   "metadata": {},
   "outputs": [],
   "source": [
    "#network를 GPU에 강제 할당\n",
    "vgg.collect_params().initialize(ctx=ctx,force_reinit=True)"
   ]
  },
  {
   "cell_type": "code",
   "execution_count": 19,
   "metadata": {},
   "outputs": [],
   "source": [
    "# content feature\n",
    "f_xc_c = vgg(content_image)[3]\n",
    "# style feature\n",
    "features_style = vgg(style_image)\n",
    "gram_style = [gram_matrix(y) for y in features_style]\n",
    "# output\n",
    "output = Parameter('output', shape=content_image.shape)\n",
    "output.initialize(ctx=ctx)\n",
    "output.set_data(content_image.copy())\n",
    "# optimizer\n",
    "trainer = gluon.Trainer([output], 'adam', {'learning_rate': lr})\n",
    "mse_loss = gluon.loss.L2Loss()"
   ]
  },
  {
   "cell_type": "code",
   "execution_count": 20,
   "metadata": {},
   "outputs": [
    {
     "data": {
      "text/plain": [
       "5"
      ]
     },
     "execution_count": 20,
     "metadata": {},
     "output_type": "execute_result"
    }
   ],
   "source": [
    "len(vgg(content_image))"
   ]
  },
  {
   "cell_type": "code",
   "execution_count": 21,
   "metadata": {},
   "outputs": [
    {
     "data": {
      "text/plain": [
       "\n",
       "[[[[32. 30. 29. ...  9. 15. 13.]\n",
       "   [28. 28. 28. ... 11. 12. 11.]\n",
       "   [30. 28. 29. ... 10. 12. 12.]\n",
       "   ...\n",
       "   [25. 29. 24. ... 18. 19. 19.]\n",
       "   [27. 27. 23. ... 20. 20. 19.]\n",
       "   [31. 24. 27. ... 20. 22. 20.]]\n",
       "\n",
       "  [[32. 30. 29. ... 13. 20. 17.]\n",
       "   [29. 29. 29. ... 14. 15. 14.]\n",
       "   [31. 30. 29. ... 14. 14. 15.]\n",
       "   ...\n",
       "   [33. 35. 30. ... 29. 29. 29.]\n",
       "   [34. 32. 29. ... 31. 31. 29.]\n",
       "   [39. 30. 33. ... 30. 34. 30.]]\n",
       "\n",
       "  [[56. 54. 54. ... 13. 23. 19.]\n",
       "   [56. 56. 54. ... 15. 15. 13.]\n",
       "   [57. 57. 55. ... 15. 14. 15.]\n",
       "   ...\n",
       "   [60. 63. 54. ... 59. 59. 60.]\n",
       "   [58. 57. 54. ... 61. 61. 59.]\n",
       "   [61. 53. 56. ... 61. 66. 57.]]]]\n",
       "<NDArray 1x3x141x100 @gpu(0)>"
      ]
     },
     "execution_count": 21,
     "metadata": {},
     "output_type": "execute_result"
    }
   ],
   "source": [
    "output.data()"
   ]
  },
  {
   "cell_type": "code",
   "execution_count": 22,
   "metadata": {},
   "outputs": [],
   "source": [
    "features_y = vgg(output.data())"
   ]
  },
  {
   "cell_type": "code",
   "execution_count": 23,
   "metadata": {},
   "outputs": [
    {
     "data": {
      "text/plain": [
       "(1, 64, 141, 100)"
      ]
     },
     "execution_count": 23,
     "metadata": {},
     "output_type": "execute_result"
    }
   ],
   "source": [
    "features_y[0].shape"
   ]
  },
  {
   "cell_type": "code",
   "execution_count": 24,
   "metadata": {},
   "outputs": [
    {
     "name": "stderr",
     "output_type": "stream",
     "text": [
      "100%|██████████| 500/500 [00:10<00:00, 45.91it/s]\n"
     ]
    }
   ],
   "source": [
    "iter_loss = dict()\n",
    "iter_loss['style'] =[]\n",
    "iter_loss['content'] =[]\n",
    "\n",
    "# optimizing the images\n",
    "for e in tqdm(range(num_iteration)):\n",
    "    # fix BN for pre-trained vgg\n",
    "    with autograd.record():\n",
    "        features_y = vgg(output.data())\n",
    "        content_loss = 2 * content_weight * mse_loss(features_y[3], f_xc_c)\n",
    "        style_loss = 0.\n",
    "        for m in range(len(features_y)):\n",
    "            #gram_y = net.gram_matrix(features_y[m])\n",
    "            gram_y = gram_matrix(features_y[m])\n",
    "            gram_s = gram_style[m]\n",
    "            style_loss = style_loss + 2 * style_weight * mse_loss(gram_y, gram_s)\n",
    "        total_loss = content_loss + style_loss\n",
    "        total_loss.backward()\n",
    "    if (e + 1) % 10 == 0:\n",
    "        iter_loss['style'].append(style_loss.asscalar())\n",
    "        iter_loss['content'].append(content_loss.asscalar())\n",
    "        \n",
    "    \n",
    "    trainer.step(1)\n",
    "    #if (e + 1) % 50 == 0:\n",
    "    #    print('loss:{:.2f}'.format(total_loss.asnumpy()[0]))"
   ]
  },
  {
   "cell_type": "code",
   "execution_count": 25,
   "metadata": {},
   "outputs": [
    {
     "data": {
      "text/plain": [
       "<matplotlib.axes._subplots.AxesSubplot at 0x7fafc006cef0>"
      ]
     },
     "execution_count": 25,
     "metadata": {},
     "output_type": "execute_result"
    },
    {
     "data": {
      "image/png": "[encoded data removed]",
      "text/plain": [
       "<Figure size 432x288 with 1 Axes>"
      ]
     },
     "metadata": {},
     "output_type": "display_data"
    }
   ],
   "source": [
    "#style/transfer loss plot\n",
    "import pandas as pd\n",
    "import matplotlib as mpl\n",
    "%matplotlib inline \n",
    "#pd.options.display.mpl_style = 'default'\n",
    "new_style = {'grid': False}\n",
    "mpl.rc('axes', **new_style)\n",
    "data = pd.DataFrame.from_dict(iter_loss)\n",
    "data.plot()"
   ]
  },
  {
   "cell_type": "code",
   "execution_count": 26,
   "metadata": {},
   "outputs": [],
   "source": [
    "#conv_data = utils.add_imagenet_mean_batch(output.data())\n",
    "conv_data = output.data()"
   ]
  },
  {
   "cell_type": "code",
   "execution_count": 27,
   "metadata": {},
   "outputs": [
    {
     "data": {
      "text/plain": [
       "(1, 3, 141, 100)"
      ]
     },
     "execution_count": 27,
     "metadata": {},
     "output_type": "execute_result"
    }
   ],
   "source": [
    "conv_data.shape"
   ]
  },
  {
   "cell_type": "code",
   "execution_count": 28,
   "metadata": {},
   "outputs": [],
   "source": [
    "def show_image_rgb(data):\n",
    "    (r, g, b) = nd.split(data[0], num_outputs=3, axis=0)\n",
    "    img = F.concat(r, g, b, dim=0)\n",
    "    img = F.clip(img, 0, 255).asnumpy()\n",
    "    img = img.transpose(1, 2, 0).astype('uint8')\n",
    "    img = Image.fromarray(img)\n",
    "    return img"
   ]
  },
  {
   "cell_type": "code",
   "execution_count": 29,
   "metadata": {},
   "outputs": [
    {
     "data": {
      "image/png": "[encoded data removed]",
      "text/plain": [
       "<PIL.Image.Image image mode=RGB size=100x141 at 0x7FAFB42CC710>"
      ]
     },
     "execution_count": 29,
     "metadata": {},
     "output_type": "execute_result"
    }
   ],
   "source": [
    "#show original image\n",
    "show_image_rgb(content_image)"
   ]
  },
  {
   "cell_type": "code",
   "execution_count": 31,
   "metadata": {},
   "outputs": [
    {
     "data": {
      "image/png": "[encoded data removed]",
      "text/plain": [
       "<PIL.Image.Image image mode=RGB size=100x100 at 0x7FB1200696D8>"
      ]
     },
     "execution_count": 31,
     "metadata": {},
     "output_type": "execute_result"
    }
   ],
   "source": [
    "#show style image\n",
    "show_image_rgb(style_image)"
   ]
  },
  {
   "cell_type": "code",
   "execution_count": 32,
   "metadata": {},
   "outputs": [
    {
     "data": {
      "image/png": "[encoded data removed]",
      "text/plain": [
       "<PIL.Image.Image image mode=RGB size=100x141 at 0x7FB120069588>"
      ]
     },
     "execution_count": 32,
     "metadata": {},
     "output_type": "execute_result"
    }
   ],
   "source": [
    "#show changed image\n",
    "show_image_rgb(conv_data)"
   ]
  }
 ],
 "metadata": {
  "kernelspec": {
   "display_name": "Python 3",
   "language": "python",
   "name": "python3"
  },
  "language_info": {
   "codemirror_mode": {
    "name": "ipython",
    "version": 3
   },
   "file_extension": ".py",
   "mimetype": "text/x-python",
   "name": "python",
   "nbconvert_exporter": "python",
   "pygments_lexer": "ipython3",
   "version": "3.6.5"
  }
 },
 "nbformat": 4,
 "nbformat_minor": 2
}
